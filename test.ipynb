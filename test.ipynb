{
 "cells": [
  {
   "cell_type": "markdown",
   "id": "276f82e9",
   "metadata": {},
   "source": [
    "ｐｙｔｅｓｔ 는 。ｐｙ 확장자 파일에만 적용이 가능하여 우선 코드만 만들어 두었습니다。"
   ]
  },
  {
   "cell_type": "code",
   "execution_count": null,
   "id": "640aeca7",
   "metadata": {},
   "outputs": [
    {
     "name": "stdout",
     "output_type": "stream",
     "text": [
      "✅ Pytest를 실행합니다...\n",
      "\n",
      "\u001b[1m============================= test session starts =============================\u001b[0m\n",
      "platform win32 -- Python 3.11.7, pytest-7.4.0, pluggy-1.0.0 -- C:\\ProgramData\\anaconda3\\python.exe\n",
      "cachedir: .pytest_cache\n",
      "rootdir: c:\\Users\\정하민\\Desktop\\commento_ai\\week_2\n",
      "plugins: anyio-4.2.0\n",
      "\u001b[1mcollecting ... \u001b[0mcollected 0 items\n",
      "\n",
      "\u001b[33m============================ \u001b[33mno tests ran\u001b[0m\u001b[33m in 0.01s\u001b[0m\u001b[33m ============================\u001b[0m\n",
      "\n",
      "❌ 실패한 테스트가 있습니다.\n",
      "\u001b[31mERROR: found no collectors for c:\\Users\\정하민\\Desktop\\commento_ai\\week_2\\generate_depth_map.ipynb\n",
      "\u001b[0m\n",
      "\n"
     ]
    }
   ],
   "source": [
    "# run_tests.py\n",
    "\n",
    "import subprocess\n",
    "\n",
    "def run_pytest():\n",
    "    print(\"✅ Pytest를 실행합니다...\\n\")\n",
    "    result = subprocess.run([\"pytest\", \"generate_depth_map.ipynb\", \"-v\"], capture_output=True, text=True)\n",
    "    result = subprocess.run([\"pytest\", \"unit_test.ipynb\", \"-v\"], capture_output=True, text=True)\n",
    "\n",
    "    print(result.stdout)\n",
    "\n",
    "    if result.returncode == 0:\n",
    "        print(\"🎉 모든 테스트 성공!\")\n",
    "    else:\n",
    "        print(\"❌ 실패한 테스트가 있습니다.\")\n",
    "        print(result.stderr)\n",
    "\n",
    "if __name__ == \"__main__\":\n",
    "    run_pytest()\n"
   ]
  }
 ],
 "metadata": {
  "kernelspec": {
   "display_name": "base",
   "language": "python",
   "name": "python3"
  },
  "language_info": {
   "codemirror_mode": {
    "name": "ipython",
    "version": 3
   },
   "file_extension": ".py",
   "mimetype": "text/x-python",
   "name": "python",
   "nbconvert_exporter": "python",
   "pygments_lexer": "ipython3",
   "version": "3.11.7"
  }
 },
 "nbformat": 4,
 "nbformat_minor": 5
}
