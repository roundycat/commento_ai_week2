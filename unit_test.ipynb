{
 "cells": [
  {
   "cell_type": "code",
   "execution_count": null,
   "id": "d8e3b4c8",
   "metadata": {},
   "outputs": [],
   "source": [
    "#pytest를활용한기본UnitTest\n",
    " importnumpyasnp\n",
    " importpytest\n",
    " importcv2\n",
    " # 샘플함수: 가짜깊이맵생성\n",
    "defgenerate_depth_map(image):\n",
    " ifimageisNone:\n",
    " raiseValueError(\"입력된이미지가없습니다.\")\n",
    " grayscale= cv2.cvtColor(image, cv2.COLOR_BGR2GRAY)\n",
    " # 가짜깊이맵적용\n",
    "depth_map= cv2.applyColorMap(grayscale, cv2.COLORMAP_JET)\n",
    " returndepth_map\n",
    " # 테스트코드\n",
    "deftest_generate_depth_map():\n",
    " image= np.zeros((100, 100, 3), dtype=np.uint8)  # 검정색빈이미지\n",
    "depth_map= generate_depth_map(image)\n",
    " assertdepth_map.shape== image.shape, \"출력크기가입력크기와다릅니다.\"\n",
    " assertisinstance(depth_map, np.ndarray), \"출력데이터타입이ndarray가아닙니다.\"\n",
    " # pytest실행\n",
    "if__name__ == \"__main__\":\n",
    " pytest.main()"
   ]
  }
 ],
 "metadata": {
  "kernelspec": {
   "display_name": "base",
   "language": "python",
   "name": "python3"
  },
  "language_info": {
   "name": "python",
   "version": "3.11.7"
  }
 },
 "nbformat": 4,
 "nbformat_minor": 5
}
