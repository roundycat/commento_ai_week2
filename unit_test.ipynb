{
 "cells": [
  {
   "cell_type": "code",
   "execution_count": 8,
   "id": "d8e3b4c8",
   "metadata": {},
   "outputs": [
    {
     "name": "stdout",
     "output_type": "stream",
     "text": [
      "✅ 일치 - 1478019952686311006.jpg\n",
      "✅ 일치 - 1478019974679051391.jpg\n",
      "✅ 일치 - 1478019983181354848.jpg\n",
      "✅ 일치 - 1478020204198106423.jpg\n",
      "✅ 일치 - 1478020209190210692.jpg\n"
     ]
    }
   ],
   "source": [
    "# unit_test.py\n",
    "\n",
    "import os\n",
    "import cv2\n",
    "import numpy as np\n",
    "import pytest\n",
    "\n",
    "# 깊이 맵 생성 함수\n",
    "def generate_depth_map(image):\n",
    "    if image is None:\n",
    "        raise ValueError(\"입력된 이미지가 없습니다.\")\n",
    "    gray = cv2.cvtColor(image, cv2.COLOR_BGR2GRAY)\n",
    "    depth_map = cv2.applyColorMap(gray, cv2.COLORMAP_JET)\n",
    "    return depth_map\n",
    "\n",
    "# 테스트 대상 이미지 경로\n",
    "IMAGE_DIR = 'data_image'\n",
    "\n",
    "# 이미지별 일치 여부 출력 테스트\n",
    "def test_generate_depth_map_on_all_images():\n",
    "    image_files = [f for f in os.listdir(IMAGE_DIR) if f.lower().endswith(('.jpg', '.jpeg', '.png'))]\n",
    "    assert image_files, \"❗ data_image 폴더에 이미지가 없습니다.\"\n",
    "\n",
    "    for filename in image_files:\n",
    "        img_path = os.path.join(IMAGE_DIR, filename)\n",
    "        image = cv2.imread(img_path)\n",
    "\n",
    "        assert image is not None, f\"❗ 이미지를 로드할 수 없습니다: {filename}\"\n",
    "\n",
    "        try:\n",
    "            depth_map = generate_depth_map(image)\n",
    "        except Exception as e:\n",
    "            print(f\"❌ 에러 발생 - {filename}: {e}\")\n",
    "            continue\n",
    "\n",
    "        errors = []\n",
    "\n",
    "        if not isinstance(depth_map, np.ndarray):\n",
    "            errors.append(\"타입 오류\")\n",
    "\n",
    "        if depth_map.shape != image.shape:\n",
    "            errors.append(\"크기 불일치\")\n",
    "\n",
    "        if errors:\n",
    "            print(f\"❌ 불일치 - {filename}: {', '.join(errors)}\")\n",
    "        else:\n",
    "            print(f\"✅ 일치 - {filename}\")\n",
    "\n",
    "# None 입력에 대한 예외 처리 테스트\n",
    "def test_generate_depth_map_with_invalid_input():\n",
    "    with pytest.raises(ValueError, match=\"입력된 이미지가 없습니다.\"):\n",
    "        generate_depth_map(None)\n",
    "\n",
    "if __name__ == \"__main__\":\n",
    "    test_generate_depth_map_on_all_images()\n",
    "    test_generate_depth_map_with_invalid_input()\n"
   ]
  }
 ],
 "metadata": {
  "kernelspec": {
   "display_name": "base",
   "language": "python",
   "name": "python3"
  },
  "language_info": {
   "codemirror_mode": {
    "name": "ipython",
    "version": 3
   },
   "file_extension": ".py",
   "mimetype": "text/x-python",
   "name": "python",
   "nbconvert_exporter": "python",
   "pygments_lexer": "ipython3",
   "version": "3.11.7"
  }
 },
 "nbformat": 4,
 "nbformat_minor": 5
}
