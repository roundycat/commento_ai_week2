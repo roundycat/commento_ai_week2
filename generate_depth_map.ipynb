{
 "cells": [
  {
   "cell_type": "code",
   "execution_count": null,
   "id": "3dbc9d81",
   "metadata": {},
   "outputs": [],
   "source": [
    " ####기본적인DepthMap생성코드(OpenCV활용)\n",
    " importcv2\n",
    " importnumpyasnp\n",
    " # 이미지로드\n",
    "image= cv2.imread('sample.jpg')\n",
    " # 그레이스케일변환\n",
    "gray= cv2.cvtColor(image, cv2.COLOR_BGR2GRAY)\n",
    " # 깊이맵생성(가상의깊이적용)\n",
    " depth_map= cv2.applyColorMap(gray, cv2.COLORMAP_JET)\n",
    " # 결과출력\n",
    "cv2.imshow('Original Image', image)\n",
    " cv2.imshow('DepthMap', depth_map)\n",
    " cv2.waitKey(0)\n",
    " cv2.destroyAllWindows()\n"
   ]
  },
  {
   "cell_type": "code",
   "execution_count": null,
   "id": "3766d7b1",
   "metadata": {},
   "outputs": [],
   "source": [
    "####심화코드: DepthMap을기반으로3D 포인트클라우드생성\n",
    "importcv2\n",
    " importnumpyasnp\n",
    " # 이미지로드\n",
    "image= cv2.imread('sample.jpg')\n",
    " # 그레이스케일변환\n",
    "gray= cv2.cvtColor(image, cv2.COLOR_BGR2GRAY)\n",
    " # DepthMap생성\n",
    "depth_map= cv2.applyColorMap(gray, cv2.COLORMAP_JET)\n",
    " # 3D 포인트클라우드변환\n",
    "h, w= depth_map.shape[:2]\n",
    " X, Y= np.meshgrid(np.arange(w), np.arange(h))\n",
    " Z= gray.astype(np.float32)  # Depth값을Z축으로사용\n",
    "# 3D 좌표생성\n",
    "points_3d = np.dstack((X, Y, Z))\n",
    " # 결과출력\n",
    "cv2.imshow('DepthMap', depth_map)\n",
    " cv2.waitKey(0)\n",
    " cv2.destroyAllWindows()"
   ]
  }
 ],
 "metadata": {
  "kernelspec": {
   "display_name": "base",
   "language": "python",
   "name": "python3"
  },
  "language_info": {
   "name": "python",
   "version": "3.11.7"
  }
 },
 "nbformat": 4,
 "nbformat_minor": 5
}
